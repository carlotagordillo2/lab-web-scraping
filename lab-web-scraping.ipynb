{
  "cells": [
    {
      "cell_type": "markdown",
      "id": "7e7a1ab8-2599-417d-9a65-25ef07f3a786",
      "metadata": {
        "id": "7e7a1ab8-2599-417d-9a65-25ef07f3a786"
      },
      "source": [
        "# Lab | Web Scraping"
      ]
    },
    {
      "cell_type": "markdown",
      "id": "ce8882fc-4815-4567-92fa-b4816358ba7d",
      "metadata": {
        "id": "ce8882fc-4815-4567-92fa-b4816358ba7d"
      },
      "source": [
        "Welcome to the \"Books to Scrape\" Web Scraping Adventure Lab!\n",
        "\n",
        "**Objective**\n",
        "\n",
        "In this lab, we will embark on a mission to unearth valuable insights from the data available on Books to Scrape, an online platform showcasing a wide variety of books. As data analyst, you have been tasked with scraping a specific subset of book data from Books to Scrape to assist publishing companies in understanding the landscape of highly-rated books across different genres. Your insights will help shape future book marketing strategies and publishing decisions.\n",
        "\n",
        "**Background**\n",
        "\n",
        "In a world where data has become the new currency, businesses are leveraging big data to make informed decisions that drive success and profitability. The publishing industry, much like others, utilizes data analytics to understand market trends, reader preferences, and the performance of books based on factors such as genre, author, and ratings. Books to Scrape serves as a rich source of such data, offering detailed information about a diverse range of books, making it an ideal platform for extracting insights to aid in informed decision-making within the literary world.\n",
        "\n",
        "**Task**\n",
        "\n",
        "Your task is to create a Python script using BeautifulSoup and pandas to scrape Books to Scrape book data, focusing on book ratings and genres. The script should be able to filter books with ratings above a certain threshold and in specific genres. Additionally, the script should structure the scraped data in a tabular format using pandas for further analysis.\n",
        "\n",
        "**Expected Outcome**\n",
        "\n",
        "A function named `scrape_books` that takes two parameters: `min_rating` and `max_price`. The function should scrape book data from the \"Books to Scrape\" website and return a `pandas` DataFrame with the following columns:\n",
        "\n",
        "**Expected Outcome**\n",
        "\n",
        "- A function named `scrape_books` that takes two parameters: `min_rating` and `max_price`.\n",
        "- The function should return a DataFrame with the following columns:\n",
        "  - **UPC**: The Universal Product Code (UPC) of the book.\n",
        "  - **Title**: The title of the book.\n",
        "  - **Price (£)**: The price of the book in pounds.\n",
        "  - **Rating**: The rating of the book (1-5 stars).\n",
        "  - **Genre**: The genre of the book.\n",
        "  - **Availability**: Whether the book is in stock or not.\n",
        "  - **Description**: A brief description or product description of the book (if available).\n",
        "  \n",
        "You will execute this script to scrape data for books with a minimum rating of `4.0 and above` and a maximum price of `£20`. \n",
        "\n",
        "Remember to experiment with different ratings and prices to ensure your code is versatile and can handle various searches effectively!\n",
        "\n",
        "**Resources**\n",
        "\n",
        "- [Beautiful Soup Documentation](https://www.crummy.com/software/BeautifulSoup/bs4/doc/)\n",
        "- [Pandas Documentation](https://pandas.pydata.org/pandas-docs/stable/index.html)\n",
        "- [Books to Scrape](https://books.toscrape.com/)\n"
      ]
    },
    {
      "cell_type": "markdown",
      "id": "3519921d-5890-445b-9a33-934ed8ee378c",
      "metadata": {
        "id": "3519921d-5890-445b-9a33-934ed8ee378c"
      },
      "source": [
        "**Hint**\n",
        "\n",
        "Your first mission is to familiarize yourself with the **Books to Scrape** website. Navigate to [Books to Scrape](http://books.toscrape.com/) and explore the available books to understand their layout and structure. \n",
        "\n",
        "Next, think about how you can set parameters for your data extraction:\n",
        "\n",
        "- **Minimum Rating**: Focus on books with a rating of 4.0 and above.\n",
        "- **Maximum Price**: Filter for books priced up to £20.\n",
        "\n",
        "After reviewing the site, you can construct a plan for scraping relevant data. Pay attention to the details displayed for each book, including the title, price, rating, and availability. This will help you identify the correct HTML elements to target with your scraping script.\n",
        "\n",
        "Make sure to build your scraping URL and logic based on the patterns you observe in the HTML structure of the book listings!"
      ]
    },
    {
      "cell_type": "markdown",
      "id": "25a83a0d-a742-49f6-985e-e27887cbf922",
      "metadata": {
        "id": "25a83a0d-a742-49f6-985e-e27887cbf922"
      },
      "source": [
        "\n",
        "---\n",
        "\n",
        "**Best of luck! Immerse yourself in the world of books, and may the data be with you!**"
      ]
    },
    {
      "cell_type": "markdown",
      "id": "7b75cf0d-9afa-4eec-a9e2-befeac68b2a0",
      "metadata": {
        "id": "7b75cf0d-9afa-4eec-a9e2-befeac68b2a0"
      },
      "source": [
        "**Important Note**:\n",
        "\n",
        "In the fast-changing online world, websites often update and change their structures. When you try this lab, the **Books to Scrape** website might differ from what you expect.\n",
        "\n",
        "If you encounter issues due to these changes, like new rules or obstacles preventing data extraction, don’t worry! Get creative.\n",
        "\n",
        "You can choose another website that interests you and is suitable for scraping data. Options like Wikipedia, The New York Times, or even library databases are great alternatives. The main goal remains the same: extract useful data and enhance your web scraping skills while exploring a source of information you enjoy. This is your opportunity to practice and adapt to different web environments!"
      ]
    },
    {
      "cell_type": "code",
      "execution_count": 110,
      "id": "40359eee-9cd7-4884-bfa4-83344c222305",
      "metadata": {
        "id": "40359eee-9cd7-4884-bfa4-83344c222305"
      },
      "outputs": [],
      "source": [
        "# Importar librerias \n",
        "import pandas as  pd\n",
        "import requests\n",
        "from bs4 import BeautifulSoup\n",
        "import re"
      ]
    },
    {
      "cell_type": "code",
      "execution_count": 71,
      "id": "8be91147",
      "metadata": {},
      "outputs": [
        {
          "data": {
            "text/plain": [
              "<Response [200]>"
            ]
          },
          "execution_count": 71,
          "metadata": {},
          "output_type": "execute_result"
        }
      ],
      "source": [
        "url = 'http://books.toscrape.com/'\n",
        "response = requests.get(url)\n",
        "response"
      ]
    },
    {
      "cell_type": "code",
      "execution_count": 4,
      "id": "529b5329",
      "metadata": {},
      "outputs": [],
      "source": [
        "soup = BeautifulSoup(response.content, \"html.parser\")"
      ]
    },
    {
      "cell_type": "code",
      "execution_count": 35,
      "id": "fd1af976",
      "metadata": {},
      "outputs": [],
      "source": [
        "titulo = soup.find_all(class_='product_pod')[0].find('h3').find('a')['title']"
      ]
    },
    {
      "cell_type": "code",
      "execution_count": 111,
      "id": "b72aa84b",
      "metadata": {},
      "outputs": [
        {
          "data": {
            "text/plain": [
              "'Three'"
            ]
          },
          "execution_count": 111,
          "metadata": {},
          "output_type": "execute_result"
        }
      ],
      "source": [
        "numero_estrellas = soup.find_all(class_='product_pod')[0].find('p')['class'][-1]\n",
        "numero_estrellas"
      ]
    },
    {
      "cell_type": "code",
      "execution_count": 47,
      "id": "a828bc93",
      "metadata": {},
      "outputs": [
        {
          "data": {
            "text/plain": [
              "51.77"
            ]
          },
          "execution_count": 47,
          "metadata": {},
          "output_type": "execute_result"
        }
      ],
      "source": [
        "precio = soup.find_all(class_='product_pod')[0].find(class_=\"price_color\").text\n",
        "precio= float(re.sub(r'[^\\d.]', '', precio))\n",
        "precio\n"
      ]
    },
    {
      "cell_type": "code",
      "execution_count": 73,
      "id": "20b1c739",
      "metadata": {},
      "outputs": [],
      "source": [
        "#UPC\n",
        "l1 = soup.find_all(class_='product_pod')[0].find('a')['href']"
      ]
    },
    {
      "cell_type": "code",
      "execution_count": 65,
      "id": "8313f817",
      "metadata": {},
      "outputs": [
        {
          "data": {
            "text/plain": [
              "'urlcatalogue/a-light-in-the-attic_1000/index.html'"
            ]
          },
          "execution_count": 65,
          "metadata": {},
          "output_type": "execute_result"
        }
      ],
      "source": [
        "url"
      ]
    },
    {
      "cell_type": "code",
      "execution_count": 75,
      "id": "13974f64",
      "metadata": {},
      "outputs": [
        {
          "data": {
            "text/plain": [
              "'http://books.toscrape.com/catalogue/a-light-in-the-attic_1000/index.html'"
            ]
          },
          "execution_count": 75,
          "metadata": {},
          "output_type": "execute_result"
        }
      ],
      "source": [
        "urlbook = url + l1\n",
        "urlbook"
      ]
    },
    {
      "cell_type": "code",
      "execution_count": 76,
      "id": "b5295ac3",
      "metadata": {},
      "outputs": [
        {
          "data": {
            "text/plain": [
              "<Response [200]>"
            ]
          },
          "execution_count": 76,
          "metadata": {},
          "output_type": "execute_result"
        }
      ],
      "source": [
        "responsebook = requests.get(urlbook)\n",
        "responsebook"
      ]
    },
    {
      "cell_type": "code",
      "execution_count": 125,
      "id": "a21ab53c",
      "metadata": {},
      "outputs": [],
      "source": [
        "soup1 = BeautifulSoup(responsebook.content, \"html.parser\")"
      ]
    },
    {
      "cell_type": "code",
      "execution_count": 139,
      "id": "699262a1",
      "metadata": {},
      "outputs": [],
      "source": [
        "soup1.find('p', id='product_description')"
      ]
    },
    {
      "cell_type": "code",
      "execution_count": 140,
      "id": "578d5a78",
      "metadata": {},
      "outputs": [
        {
          "name": "stdout",
          "output_type": "stream",
          "text": [
            "Product Description: It's hard to imagine a world without A Light in the Attic. This now-classic collection of poetry and drawings from Shel Silverstein celebrates its 20th anniversary with this special edition. Silverstein's humorous and creative verse can amuse the dowdiest of readers. Lemon-faced adults and fidgety kids sit still and read these rhythmic words and laugh and smile and love th It's hard to imagine a world without A Light in the Attic. This now-classic collection of poetry and drawings from Shel Silverstein celebrates its 20th anniversary with this special edition. Silverstein's humorous and creative verse can amuse the dowdiest of readers. Lemon-faced adults and fidgety kids sit still and read these rhythmic words and laugh and smile and love that Silverstein. Need proof of his genius? RockabyeRockabye baby, in the treetopDon't you know a treetopIs no safe place to rock?And who put you up there,And your cradle, too?Baby, I think someone down here'sGot it in for you. Shel, you never sounded so good. ...more\n"
          ]
        }
      ],
      "source": [
        "product_description_div = soup1.find('div', id='product_description')\n",
        "\n",
        "# Obtener el siguiente <p> que contiene la descripción\n",
        "description = product_description_div.find_next('p').text\n"
      ]
    },
    {
      "cell_type": "code",
      "execution_count": 120,
      "id": "f5a27d99",
      "metadata": {},
      "outputs": [
        {
          "name": "stderr",
          "output_type": "stream",
          "text": [
            "C:\\Users\\Carlota\\AppData\\Local\\Temp\\ipykernel_1752\\2605732472.py:2: DeprecationWarning: The 'text' argument to find()-type methods is deprecated. Use 'string' instead.\n",
            "  soup1.find_all(class_=\"table table-striped\")[0].find('th', text='Availability').find_next_sibling('td').text\n"
          ]
        },
        {
          "data": {
            "text/plain": [
              "'In stock (22 available)'"
            ]
          },
          "execution_count": 120,
          "metadata": {},
          "output_type": "execute_result"
        }
      ],
      "source": [
        "#informacion\n",
        "soup1.find_all(class_=\"table table-striped\")[0].find('th', text='Availability').find_next_sibling('td').text"
      ]
    },
    {
      "cell_type": "code",
      "execution_count": 117,
      "id": "f74dc4a9",
      "metadata": {},
      "outputs": [
        {
          "name": "stderr",
          "output_type": "stream",
          "text": [
            "C:\\Users\\Carlota\\AppData\\Local\\Temp\\ipykernel_1752\\2677628364.py:1: DeprecationWarning: The 'text' argument to find()-type methods is deprecated. Use 'string' instead.\n",
            "  upc = soup1.find_all(class_=\"table table-striped\")[0].find('th', text='UPC').find_next_sibling('td').text\n"
          ]
        }
      ],
      "source": [
        "upc = soup1.find_all(class_=\"table table-striped\")[0].find('th', text='UPC').find_next_sibling('td').text"
      ]
    },
    {
      "cell_type": "code",
      "execution_count": 118,
      "id": "e69dd53a",
      "metadata": {},
      "outputs": [
        {
          "data": {
            "text/plain": [
              "'a897fe39b1053632'"
            ]
          },
          "execution_count": 118,
          "metadata": {},
          "output_type": "execute_result"
        }
      ],
      "source": [
        "upc"
      ]
    },
    {
      "cell_type": "markdown",
      "id": "47ebd21f",
      "metadata": {},
      "source": [
        "- A function named `scrape_books` that takes two parameters: `min_rating` and `max_price`.\n",
        "- The function should return a DataFrame with the following columns:\n",
        "  - **UPC**: The Universal Product Code (UPC) of the book.\n",
        "  - **Title**: The title of the book.\n",
        "  - **Price (£)**: The price of the book in pounds.\n",
        "  - **Rating**: The rating of the book (1-5 stars).\n",
        "  - **Genre**: The genre of the book.\n",
        "  - **Availability**: Whether the book is in stock or not.\n",
        "  - **Description**: A brief description or product description of the book (if available)."
      ]
    },
    {
      "cell_type": "code",
      "execution_count": 112,
      "id": "f3a06834",
      "metadata": {},
      "outputs": [],
      "source": [
        "def convertir_numero_estrellas(str): \n",
        "    \n",
        "    if str == 'One': \n",
        "        return 1\n",
        "    if str == 'Two': \n",
        "        return 2\n",
        "    if str == 'Three': \n",
        "        return 3\n",
        "    if str == 'Four': \n",
        "        return 4\n",
        "    if str == 'Five': \n",
        "        return 5"
      ]
    },
    {
      "cell_type": "code",
      "execution_count": 143,
      "id": "f2de86b2",
      "metadata": {},
      "outputs": [
        {
          "data": {
            "text/plain": [
              "1"
            ]
          },
          "execution_count": 143,
          "metadata": {},
          "output_type": "execute_result"
        }
      ],
      "source": [
        "convertir_numero_estrellas('One')"
      ]
    },
    {
      "cell_type": "code",
      "execution_count": 150,
      "id": "3569496f",
      "metadata": {},
      "outputs": [],
      "source": [
        "def scrape_books(min_rating, max_price): \n",
        "    \n",
        "    # leo url\n",
        "    url = 'http://books.toscrape.com/'\n",
        "    response = requests.get(url)\n",
        "    response\n",
        "    \n",
        "    soup = BeautifulSoup(response.content, \"html.parser\")\n",
        "    \n",
        "    books = soup.find_all(class_='product_pod')\n",
        "    \n",
        "    book_pd = []\n",
        "    \n",
        "    for book in books: \n",
        "        titulo = book.find('h3').find('a')['title']\n",
        "        numero_estrellas = book.find('p')['class'][-1]\n",
        "        numero_estrellas = convertir_numero_estrellas(numero_estrellas)\n",
        "        precio = book.find(class_=\"price_color\").text\n",
        "        precio= float(re.sub(r'[^\\d.]', '', precio))\n",
        "        \n",
        "        if (numero_estrellas>min_rating and precio < max_price): \n",
        "            \n",
        "            # accedo a la url del libro\n",
        "            l1 = book.find('a')['href']\n",
        "            \n",
        "            urlbook = url + l1\n",
        "            responsebook = requests.get(urlbook)\n",
        "            soupBook= BeautifulSoup(responsebook.content, \"html.parser\")\n",
        "            \n",
        "            # saco los campos que me quedan \n",
        "            upc = soupBook.find_all(class_=\"table table-striped\")[0].find('th', text='UPC').find_next_sibling('td').text\n",
        "            availability = soupBook.find_all(class_=\"table table-striped\")[0].find('th', text='Availability').find_next_sibling('td').text\n",
        "            product_description_div = soup1.find('div', id='product_description')\n",
        "\n",
        "            # Obtener el siguiente <p> que contiene la descripción\n",
        "            description = product_description_div.find_next('p').text\n",
        "            \n",
        "            book_pd.append({\n",
        "                    'UPC': upc,\n",
        "                    'Title': titulo,\n",
        "                    'Price (£)': precio,\n",
        "                    'Rating': numero_estrellas,\n",
        "                    'Availability': availability,\n",
        "                    'Description': description\n",
        "            })\n",
        "    \n",
        "    book_pd = pd.DataFrame(book_pd)\n",
        "    \n",
        "    return book_pd\n",
        "        \n",
        "            #print(titulo, numero_estrellas, precio)\n",
        "    "
      ]
    },
    {
      "cell_type": "code",
      "execution_count": 151,
      "id": "f4231baf",
      "metadata": {},
      "outputs": [
        {
          "name": "stderr",
          "output_type": "stream",
          "text": [
            "C:\\Users\\Carlota\\AppData\\Local\\Temp\\ipykernel_1752\\1912491229.py:31: DeprecationWarning: The 'text' argument to find()-type methods is deprecated. Use 'string' instead.\n",
            "  upc = soupBook.find_all(class_=\"table table-striped\")[0].find('th', text='UPC').find_next_sibling('td').text\n",
            "C:\\Users\\Carlota\\AppData\\Local\\Temp\\ipykernel_1752\\1912491229.py:32: DeprecationWarning: The 'text' argument to find()-type methods is deprecated. Use 'string' instead.\n",
            "  availability = soupBook.find_all(class_=\"table table-striped\")[0].find('th', text='Availability').find_next_sibling('td').text\n"
          ]
        },
        {
          "data": {
            "text/html": [
              "<div>\n",
              "<style scoped>\n",
              "    .dataframe tbody tr th:only-of-type {\n",
              "        vertical-align: middle;\n",
              "    }\n",
              "\n",
              "    .dataframe tbody tr th {\n",
              "        vertical-align: top;\n",
              "    }\n",
              "\n",
              "    .dataframe thead th {\n",
              "        text-align: right;\n",
              "    }\n",
              "</style>\n",
              "<table border=\"1\" class=\"dataframe\">\n",
              "  <thead>\n",
              "    <tr style=\"text-align: right;\">\n",
              "      <th></th>\n",
              "      <th>UPC</th>\n",
              "      <th>Title</th>\n",
              "      <th>Price (£)</th>\n",
              "      <th>Rating</th>\n",
              "      <th>Availability</th>\n",
              "      <th>Description</th>\n",
              "    </tr>\n",
              "  </thead>\n",
              "  <tbody>\n",
              "    <tr>\n",
              "      <th>0</th>\n",
              "      <td>ce6396b0f23f6ecc</td>\n",
              "      <td>Set Me Free</td>\n",
              "      <td>17.46</td>\n",
              "      <td>5</td>\n",
              "      <td>In stock (19 available)</td>\n",
              "      <td>It's hard to imagine a world without A Light i...</td>\n",
              "    </tr>\n",
              "  </tbody>\n",
              "</table>\n",
              "</div>"
            ],
            "text/plain": [
              "                UPC        Title  Price (£)  Rating             Availability  \\\n",
              "0  ce6396b0f23f6ecc  Set Me Free      17.46       5  In stock (19 available)   \n",
              "\n",
              "                                         Description  \n",
              "0  It's hard to imagine a world without A Light i...  "
            ]
          },
          "execution_count": 151,
          "metadata": {},
          "output_type": "execute_result"
        }
      ],
      "source": [
        "scrape_books(4,20)"
      ]
    },
    {
      "cell_type": "code",
      "execution_count": null,
      "id": "8fae9d6e",
      "metadata": {},
      "outputs": [],
      "source": []
    }
  ],
  "metadata": {
    "colab": {
      "provenance": []
    },
    "kernelspec": {
      "display_name": "base",
      "language": "python",
      "name": "python3"
    },
    "language_info": {
      "codemirror_mode": {
        "name": "ipython",
        "version": 3
      },
      "file_extension": ".py",
      "mimetype": "text/x-python",
      "name": "python",
      "nbconvert_exporter": "python",
      "pygments_lexer": "ipython3",
      "version": "3.11.7"
    }
  },
  "nbformat": 4,
  "nbformat_minor": 5
}
